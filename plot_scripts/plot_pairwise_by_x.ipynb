{
 "cells": [
  {
   "cell_type": "code",
   "execution_count": null,
   "id": "90c56ffc",
   "metadata": {},
   "outputs": [],
   "source": [
    "import os\n",
    "\n",
    "import matplotlib.pyplot as plt\n",
    "plt.rcParams.update({'font.size': 22})\n",
    "\n",
    "import posgmcp.plot as plot_lib\n",
    "\n",
    "# Change this to plot different problem\n",
    "problem_name = \"ipl\"\n",
    "\n",
    "# Change dir name to use different base dir\n",
    "exp_results_dir = 'ipl_1_nls_241021'\n",
    "\n",
    "df, results_dir = plot_lib.load_results(problem_name, exp_results_dir)\n",
    "\n",
    "print(plot_lib.results_summary(df, include_headers=True))"
   ]
  },
  {
   "cell_type": "code",
   "execution_count": null,
   "id": "1122c039",
   "metadata": {
    "scrolled": false
   },
   "outputs": [],
   "source": [
    "plot_lib.plot_pairwise_pis_y_by_x(\n",
    "    df, \n",
    "    x_key=\"num_sims\",\n",
    "    y_key=\"episode_returns_mean\", \n",
    "    y_err_key=\"episode_returns_CI\",\n",
    "    agent_i_id=0,\n",
    "    agent_j_id=1,\n",
    "    results_dir=results_dir,\n",
    "    **{\n",
    "        \"ylabel\": \"Mean Episode Return +/- 95% CI\",\n",
    "        \"sharex\": False,\n",
    "        \"sharey\": True,\n",
    "        \"logx\": True\n",
    "    }\n",
    ")"
   ]
  },
  {
   "cell_type": "code",
   "execution_count": null,
   "id": "f2913fb3",
   "metadata": {},
   "outputs": [],
   "source": [
    "plot_lib.plot_pairwise_pis_y_by_x(\n",
    "    df, \n",
    "    x_key=\"num_sims\",\n",
    "    y_key=\"episode_discounted_returns_mean\", \n",
    "    y_err_key=\"episode_discounted_returns_CI\",\n",
    "    agent_i_id=0,\n",
    "    agent_j_id=1,\n",
    "    results_dir=results_dir,\n",
    "    **{\n",
    "        \"ylabel\": \"Mean Discounted Episode Return +/- 95% CI\",\n",
    "        \"sharex\": False,\n",
    "        \"sharey\": True,\n",
    "        \"logx\": True\n",
    "    }\n",
    ")"
   ]
  },
  {
   "cell_type": "code",
   "execution_count": null,
   "id": "1ce30aaf",
   "metadata": {},
   "outputs": [],
   "source": [
    "plot_lib.plot_pairwise_pis_y_by_x(\n",
    "    df, \n",
    "    x_key=\"num_sims\",\n",
    "    y_key=\"policy_entropy_mean\", \n",
    "    y_err_key=\"policy_entropy_std\",\n",
    "    agent_i_id=0,\n",
    "    agent_j_id=1,\n",
    "    results_dir=results_dir,\n",
    "    **{\n",
    "        \"ylabel\": \"Policy entropy \",\n",
    "        \"sharex\": False,\n",
    "        \"sharey\": True\n",
    "    }\n",
    ")"
   ]
  },
  {
   "cell_type": "code",
   "execution_count": null,
   "id": "d26f5da3",
   "metadata": {},
   "outputs": [],
   "source": [
    "plot_lib.plot_pairwise_pis_y_by_x(\n",
    "    df, \n",
    "    x_key=\"num_sims\",\n",
    "    y_key=\"episode_steps_mean\", \n",
    "    y_err_key=\"episode_steps_CI\",\n",
    "    agent_i_id=0,\n",
    "    agent_j_id=1,\n",
    "    results_dir=results_dir,\n",
    "    **{\n",
    "        \"ylabel\": \"Mean Episode Steps +/- 95% CI\",\n",
    "        \"sharex\": False,\n",
    "        \"sharey\": True\n",
    "    }\n",
    ")"
   ]
  },
  {
   "cell_type": "code",
   "execution_count": null,
   "id": "47ff6dff",
   "metadata": {},
   "outputs": [],
   "source": [
    "plot_lib.plot_pairwise_pis_y_by_x(\n",
    "    df, \n",
    "    x_key='num_sims',\n",
    "    y_key=\"total_search_time_mean\", \n",
    "    y_err_key=\"total_search_time_CI\",\n",
    "    agent_i_id=0,\n",
    "    agent_j_id=1,\n",
    "    results_dir=results_dir,\n",
    "    **{\n",
    "        \"ylabel\": \"Mean Search Time Per Episode (s) +/- 95% CI\",\n",
    "        \"sharex\": False,\n",
    "        \"sharey\": True,\n",
    "        \"logx\": True\n",
    "    }\n",
    ")"
   ]
  },
  {
   "cell_type": "code",
   "execution_count": null,
   "id": "e9967e5c",
   "metadata": {},
   "outputs": [],
   "source": [
    "plot_lib.plot_pairwise_pis_y_by_x(\n",
    "    df, \n",
    "    x_key='num_sims',\n",
    "    y_key=\"total_update_time_mean\", \n",
    "    y_err_key=\"total_update_time_CI\",\n",
    "    agent_i_id=0,\n",
    "    agent_j_id=1,\n",
    "    results_dir=results_dir,\n",
    "    **{\n",
    "        \"ylabel\": \"Mean Update Time Per Episode (s) +/- 95% CI\",\n",
    "        \"sharex\": False,\n",
    "        \"sharey\": True,\n",
    "        \"logx\": True\n",
    "    }\n",
    ")"
   ]
  },
  {
   "cell_type": "code",
   "execution_count": null,
   "id": "609776f7",
   "metadata": {},
   "outputs": [],
   "source": [
    "plot_lib.plot_pairwise_pis_y_by_x(\n",
    "    df, \n",
    "    x_key='num_sims',\n",
    "    y_key=\"total_reinvigoration_time_mean\", \n",
    "    y_err_key=\"total_reinvigoration_time_CI\",\n",
    "    agent_i_id=0,\n",
    "    agent_j_id=1,\n",
    "    results_dir=results_dir,\n",
    "    **{\n",
    "        \"ylabel\": \"Mean Reinvigoration Time Per Episode (s) +/- 95% CI\",\n",
    "        \"sharex\": False,\n",
    "        \"sharey\": True,\n",
    "        \"logx\": True\n",
    "    }\n",
    ")"
   ]
  },
  {
   "cell_type": "code",
   "execution_count": null,
   "id": "42d5d45f",
   "metadata": {},
   "outputs": [],
   "source": [
    "plot_lib.plot_pairwise_pis_y_by_x(\n",
    "    df, \n",
    "    x_key='num_sims',\n",
    "    y_key=\"num_episodes\", \n",
    "    y_err_key=None,\n",
    "    agent_i_id=0,\n",
    "    agent_j_id=1,\n",
    "    results_dir=results_dir,\n",
    "    **{\n",
    "        \"ylabel\": \"Number of episodes\",\n",
    "        \"sharex\": False,\n",
    "        \"sharey\": True\n",
    "    }\n",
    ")"
   ]
  }
 ],
 "metadata": {
  "kernelspec": {
   "display_name": "Python (posgmcp)",
   "language": "python",
   "name": "posgmcp"
  },
  "language_info": {
   "codemirror_mode": {
    "name": "ipython",
    "version": 3
   },
   "file_extension": ".py",
   "mimetype": "text/x-python",
   "name": "python",
   "nbconvert_exporter": "python",
   "pygments_lexer": "ipython3",
   "version": "3.9.5"
  }
 },
 "nbformat": 4,
 "nbformat_minor": 5
}
