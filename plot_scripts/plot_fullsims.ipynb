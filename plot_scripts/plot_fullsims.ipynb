{
 "cells": [
  {
   "cell_type": "code",
   "execution_count": null,
   "id": "6fbb5900",
   "metadata": {},
   "outputs": [],
   "source": [
    "import os\n",
    "\n",
    "import posgmcp.plot.plot_utils as pltutils"
   ]
  },
  {
   "cell_type": "code",
   "execution_count": null,
   "id": "a6298c5c",
   "metadata": {},
   "outputs": [],
   "source": [
    "# Change this to plot different problem\n",
    "problem_name = \"ml\"\n",
    "\n",
    "# Change dir name to use different base dir\n",
    "exp_results_dir = 'full_20step_numsims_v2'\n",
    "\n",
    "results_file, results_dir = pltutils.get_results_file_and_dir(problem_name, exp_results_dir)\n",
    "print(results_dir)\n",
    "print(results_file)"
   ]
  },
  {
   "cell_type": "code",
   "execution_count": null,
   "id": "c2cecef8",
   "metadata": {},
   "outputs": [],
   "source": [
    "df = pltutils.import_results(results_file)\n",
    "        \n",
    "df\n",
    "list(df.columns.values)"
   ]
  },
  {
   "cell_type": "code",
   "execution_count": null,
   "id": "c990696c",
   "metadata": {},
   "outputs": [],
   "source": [
    "agent_ids = df[\"agent_id\"].unique()\n",
    "agent_ids.sort()\n",
    "nesting_levels = df[\"nesting_level\"].unique()\n",
    "nesting_levels.sort()\n",
    "num_sims = df[\"num_sims\"].unique()\n",
    "num_sims.sort()\n",
    "horizons = df[\"horizon\"].unique()\n",
    "horizons.sort()\n",
    "step_limits = df[\"step_limit\"].unique()\n",
    "step_limits.sort()\n",
    "tree_classes = df[\"search_tree\"].unique()\n",
    "num_particles = df['num_particles'].unique()\n",
    "num_particles.sort()\n",
    "\n",
    "print(\"Agent IDs:\", agent_ids)\n",
    "print(\"Num Sims:\", num_sims)\n",
    "print(\"Nesting levels:\", nesting_levels)\n",
    "print(\"Horizons:\", horizons)\n",
    "print(\"Step Limits:\", step_limits)\n",
    "print(\"Search Trees:\", tree_classes)\n",
    "print(\"Num Particles:\", num_particles)"
   ]
  },
  {
   "cell_type": "code",
   "execution_count": null,
   "id": "e8241ad2",
   "metadata": {},
   "outputs": [],
   "source": [
    "pltutils.plot_y_by_nesting_level(\n",
    "    df[df['agent_id'] == 0], \n",
    "    y_key=\"episode_returns_avg\", \n",
    "    y_err_key=\"episode_returns_std\",\n",
    "    row_key='horizon',\n",
    "    col_key='num_particles',\n",
    "    results_dir=results_dir,\n",
    "    logy=False\n",
    ")"
   ]
  },
  {
   "cell_type": "code",
   "execution_count": null,
   "id": "92863075",
   "metadata": {},
   "outputs": [],
   "source": [
    "pltutils.plot_y_by_nesting_level(\n",
    "    df[df['agent_id'] == 0], \n",
    "    y_key=\"episode_times_avg\", \n",
    "    y_err_key=\"episode_times_std\",\n",
    "    row_key='horizon',\n",
    "    col_key='num_particles',\n",
    "    results_dir=results_dir\n",
    ")"
   ]
  },
  {
   "cell_type": "code",
   "execution_count": null,
   "id": "a22045ab",
   "metadata": {},
   "outputs": [],
   "source": [
    "pltutils.plot_y_by_nesting_level(\n",
    "    df[df['agent_id'] == 0], \n",
    "    y_key=\"num_errors\", \n",
    "    y_err_key=None,\n",
    "    row_key='horizon',\n",
    "    col_key='num_particles',\n",
    "    results_dir=results_dir\n",
    ")"
   ]
  }
 ],
 "metadata": {
  "kernelspec": {
   "display_name": "Python (posgmcp)",
   "language": "python",
   "name": "posgmcp"
  },
  "language_info": {
   "codemirror_mode": {
    "name": "ipython",
    "version": 3
   },
   "file_extension": ".py",
   "mimetype": "text/x-python",
   "name": "python",
   "nbconvert_exporter": "python",
   "pygments_lexer": "ipython3",
   "version": "3.9.5"
  }
 },
 "nbformat": 4,
 "nbformat_minor": 5
}
